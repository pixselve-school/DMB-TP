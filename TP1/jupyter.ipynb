{
 "cells": [
  {
   "cell_type": "code",
   "execution_count": 1,
   "metadata": {},
   "outputs": [],
   "source": [
    "from pyspark.sql import SparkSession\n",
    "from pyspark.sql.functions import avg, count\n",
    "from pyspark.sql import functions as F"
   ]
  },
  {
   "cell_type": "code",
   "execution_count": 2,
   "metadata": {},
   "outputs": [],
   "source": [
    "data_file_path = \"./data/agg_match_stats_100000.csv\"\n",
    "\n",
    "# Create a SparkSession\n",
    "spark = SparkSession.builder.appName(\"CSV Analysis\").getOrCreate()\n",
    "\n",
    "# Load the CSV file into a DataFrame\n",
    "df = spark.read.csv(data_file_path, header=True, inferSchema=True)\n",
    "\n",
    "all_columns = df.columns\n"
   ]
  },
  {
   "cell_type": "code",
   "execution_count": 3,
   "metadata": {},
   "outputs": [
    {
     "name": "stdout",
     "output_type": "stream",
     "text": [
      "root\n",
      " |-- date: timestamp (nullable = true)\n",
      " |-- game_size: integer (nullable = true)\n",
      " |-- match_id: string (nullable = true)\n",
      " |-- match_mode: string (nullable = true)\n",
      " |-- party_size: integer (nullable = true)\n",
      " |-- player_assists: integer (nullable = true)\n",
      " |-- player_dbno: integer (nullable = true)\n",
      " |-- player_dist_ride: double (nullable = true)\n",
      " |-- player_dist_walk: double (nullable = true)\n",
      " |-- player_dmg: integer (nullable = true)\n",
      " |-- player_kills: integer (nullable = true)\n",
      " |-- player_name: string (nullable = true)\n",
      " |-- player_survive_time: double (nullable = true)\n",
      " |-- team_id: integer (nullable = true)\n",
      " |-- team_placement: integer (nullable = true)\n",
      "\n"
     ]
    }
   ],
   "source": [
    "# Show the schema of the DataFrame\n",
    "df.printSchema()"
   ]
  },
  {
   "cell_type": "code",
   "execution_count": 4,
   "metadata": {},
   "outputs": [
    {
     "name": "stdout",
     "output_type": "stream",
     "text": [
      "+-------------------+---------+--------------------+----------+----------+--------------+-----------+------------------+------------------+----------+------------+--------------+-------------------+-------+--------------+\n",
      "|               date|game_size|            match_id|match_mode|party_size|player_assists|player_dbno|  player_dist_ride|  player_dist_walk|player_dmg|player_kills|   player_name|player_survive_time|team_id|team_placement|\n",
      "+-------------------+---------+--------------------+----------+----------+--------------+-----------+------------------+------------------+----------+------------+--------------+-------------------+-------+--------------+\n",
      "|2017-11-26 21:59:40|       37|2U4GBNA0YmnNZYkzj...|       tpp|         2|             0|          1|          2870.724|        1784.84778|       117|           1|      SnuffIes|            1106.32|      4|            18|\n",
      "|2017-11-26 21:59:40|       37|2U4GBNA0YmnNZYkzj...|       tpp|         2|             0|          1|2938.4072300000003|1756.0797100000002|       127|           1|        Ozon3r|           1106.315|      4|            18|\n",
      "|2017-11-26 21:59:40|       37|2U4GBNA0YmnNZYkzj...|       tpp|         2|             0|          0|               0.0|        224.157562|        67|           0|        bovize|            235.558|      5|            33|\n",
      "|2017-11-26 21:59:40|       37|2U4GBNA0YmnNZYkzj...|       tpp|         2|             0|          0|               0.0|          92.93515|         0|           0|       sbahn87|            197.553|      5|            33|\n",
      "|2017-11-26 21:59:40|       37|2U4GBNA0YmnNZYkzj...|       tpp|         2|             0|          0|        2619.07739|          2510.447|       175|           2|     GeminiZZZ|           1537.495|     14|            11|\n",
      "|2017-11-26 21:59:40|       37|2U4GBNA0YmnNZYkzj...|       tpp|         2|             0|          0|         2896.3125|        2167.93213|        65|           0|      AlexWho6|             1537.5|     14|            11|\n",
      "|2017-11-26 21:59:40|       37|2U4GBNA0YmnNZYkzj...|       tpp|         2|             0|          0|               0.0|        3118.58032|         0|           0|    R1dd1ck913|           1264.792|     15|            17|\n",
      "|2017-11-26 21:59:40|       37|2U4GBNA0YmnNZYkzj...|       tpp|         2|             0|          0|               0.0|          3237.202|         0|           0|     Emmylou89|           1264.795|     15|            17|\n",
      "|2017-11-26 21:59:40|       37|2U4GBNA0YmnNZYkzj...|       tpp|         2|             0|          0|               0.0|         1552.3147|        79|           0|         ron-n|             868.56|     17|            24|\n",
      "|2017-11-26 21:59:40|       37|2U4GBNA0YmnNZYkzj...|       tpp|         2|             0|          1|               0.0|         1450.3147|       101|           1|       SoSpicy|            868.555|     17|            24|\n",
      "|2017-11-26 21:59:40|       37|2U4GBNA0YmnNZYkzj...|       tpp|         2|             0|          1|        2406.55469|        3100.02124|        54|           1|   MatthiasXIV|           1939.846|     22|             4|\n",
      "|2017-11-26 21:59:40|       37|2U4GBNA0YmnNZYkzj...|       tpp|         2|             0|          0|        3135.38647|2456.2775899999997|        34|           0|      Ninjapex|           1939.851|     22|             4|\n",
      "|2017-11-26 21:59:40|       37|2U4GBNA0YmnNZYkzj...|       tpp|         2|             0|          0|               0.0|        55.2714539|         0|           0|    thebrewski|             160.64|     24|            34|\n",
      "|2017-11-26 21:59:40|       37|2U4GBNA0YmnNZYkzj...|       tpp|         2|             0|          1|               0.0|          129.4159|       215|           2|GucciManeDrain| 180.90099999999998|     24|            34|\n",
      "|2017-11-26 21:59:40|       37|2U4GBNA0YmnNZYkzj...|       tpp|         2|             0|          0|          2418.547|        2474.08887|        75|           1|      subzero3|           2181.815|     25|             2|\n",
      "|2017-11-26 21:59:40|       37|2U4GBNA0YmnNZYkzj...|       tpp|         2|             0|          0|1277.5805699999999|        3286.67114|        84|           1|       Chogo82|            2181.82|     25|             2|\n",
      "|2017-11-26 21:59:40|       37|2U4GBNA0YmnNZYkzj...|       tpp|         2|             0|          0|               0.0|          2057.258|         0|           0|    FIYMNBVCXZ| 1583.1570000000002|     26|             3|\n",
      "|2017-11-26 21:59:40|       37|2U4GBNA0YmnNZYkzj...|       tpp|         2|             0|          4|               0.0|        3285.94385|       673|           6|     ShuLanHou| 2009.7220000000002|     26|             3|\n",
      "|2017-11-26 21:59:40|       37|2U4GBNA0YmnNZYkzj...|       tpp|         2|             0|          0|               0.0|        1522.11768|       117|           1|         sigbo| 1032.6480000000001|     29|            20|\n",
      "|2017-11-26 21:59:40|       37|2U4GBNA0YmnNZYkzj...|       tpp|         2|             0|          1|               0.0|        1078.95581|       100|           1|       Jerryxp|            513.487|     29|            20|\n",
      "+-------------------+---------+--------------------+----------+----------+--------------+-----------+------------------+------------------+----------+------------+--------------+-------------------+-------+--------------+\n",
      "only showing top 20 rows\n",
      "\n"
     ]
    }
   ],
   "source": [
    "# Show the first few rows of the DataFrame\n",
    "df.show()"
   ]
  },
  {
   "cell_type": "code",
   "execution_count": 5,
   "metadata": {},
   "outputs": [
    {
     "name": "stdout",
     "output_type": "stream",
     "text": [
      "Number of rows:  99999\n",
      "Number of columns:  15\n"
     ]
    }
   ],
   "source": [
    "# Perform some basic operations\n",
    "print(\"Number of rows: \", df.count())\n",
    "print(\"Number of columns: \", len(df.columns))\n",
    "\n",
    "# You can also perform more specific data analysis depending on your needs\n",
    "# For example, to find the average of a column named 'column_name', you can do:\n",
    "# df.select(avg(\"column_name\")).show()"
   ]
  },
  {
   "cell_type": "markdown",
   "metadata": {},
   "source": [
    "# 3 - Les meilleurs joueurs\n",
    "\n",
    "L'objectif est d'être le dernier en vie, mais certains joueurs soutiennent qu'il est nécessaire d'éliminer\n",
    "un maximum de concurrents. Nous allons vérifier cette affirmation en comparant les joueurs selon ces deux\n",
    "conditions, à vous de choisir celle que vous souhaitez explorer. L'attribut player_kills donne le nombre\n",
    "d'éliminations et team_placement la position en fin de partie.\n",
    "\n",
    "1. Chargez le jeu de données. (voir textFile)\n",
    "2. Pour chaque partie, obtenez uniquement le nom du joueur et son nombre d'éliminations ou sa position. (voir map)\n",
    "3. Obtenez la moyenne des éliminations ou de la position de chaque joueur, ainsi que le nombre de parties concernées. (voir reduceByKey ou groupByKey)\n",
    "4. Obtenez les 10 meilleurs joueurs selon les éliminations ou la position. (voir sortBy)\n",
    "5. Certains joueurs n'ayant joué qu'une partie, nous souhaitions ne garder que ceux ayant au moins 4 parties. (voir filter)\n",
    "6. Si vous observez un joueur particulier, traitez-le de la manière appropriée.\n",
    "7. En partageant avec vos camarades qui ont exploré l'autre condition, donnez votre avis sur l'affirmation de départ."
   ]
  },
  {
   "cell_type": "code",
   "execution_count": 6,
   "metadata": {},
   "outputs": [
    {
     "name": "stdout",
     "output_type": "stream",
     "text": [
      "+--------------+------------+--------------+\n",
      "|   player_name|player_kills|team_placement|\n",
      "+--------------+------------+--------------+\n",
      "|      SnuffIes|           1|            18|\n",
      "|        Ozon3r|           1|            18|\n",
      "|        bovize|           0|            33|\n",
      "|       sbahn87|           0|            33|\n",
      "|     GeminiZZZ|           2|            11|\n",
      "|      AlexWho6|           0|            11|\n",
      "|    R1dd1ck913|           0|            17|\n",
      "|     Emmylou89|           0|            17|\n",
      "|         ron-n|           0|            24|\n",
      "|       SoSpicy|           1|            24|\n",
      "|   MatthiasXIV|           1|             4|\n",
      "|      Ninjapex|           0|             4|\n",
      "|    thebrewski|           0|            34|\n",
      "|GucciManeDrain|           2|            34|\n",
      "|      subzero3|           1|             2|\n",
      "|       Chogo82|           1|             2|\n",
      "|    FIYMNBVCXZ|           0|             3|\n",
      "|     ShuLanHou|           6|             3|\n",
      "|         sigbo|           1|            20|\n",
      "|       Jerryxp|           1|            20|\n",
      "+--------------+------------+--------------+\n",
      "only showing top 20 rows\n",
      "\n"
     ]
    }
   ],
   "source": [
    "selected_data = df.select(\"player_name\", \"player_kills\", \"team_placement\")\n",
    "selected_data.show()"
   ]
  },
  {
   "cell_type": "code",
   "execution_count": 7,
   "metadata": {},
   "outputs": [
    {
     "name": "stdout",
     "output_type": "stream",
     "text": [
      "+----------------+---------+------------------+-----------+\n",
      "|     player_name|avg_kills|     avg_placement|match_count|\n",
      "+----------------+---------+------------------+-----------+\n",
      "|        Abby1998|      0.0|              29.0|          1|\n",
      "|  mrflamingllama|      0.0|              23.0|          1|\n",
      "|      Kasei_Chan|      0.5|              18.5|          2|\n",
      "|   KenKen_Mantau|      0.0|              16.0|          1|\n",
      "|        57Street|      1.0|              20.0|          1|\n",
      "|      Joobjoobee|      2.0|              29.0|          1|\n",
      "|   smegma_patrol|      0.0|              61.0|          1|\n",
      "| speed_demonzzzz|      1.0|49.333333333333336|          3|\n",
      "|    HuYa-Jun-Hao|      2.0|               9.0|          1|\n",
      "|   ThangMatLon66|      0.0|              21.0|          1|\n",
      "|snouted_snorkler|      0.0|              19.0|          1|\n",
      "|          zhuoda|      0.0|              28.0|          1|\n",
      "|    EricLawrence|      1.5|              12.0|          2|\n",
      "|         I_Suck_|      5.0|               1.0|          1|\n",
      "|     adultbundle|      0.0|              28.0|          1|\n",
      "|    DLSZhenshuai|      0.0|              16.0|          1|\n",
      "|    zjj775329821|      3.0|               6.0|          1|\n",
      "|         Rawrric|      0.0|              25.0|          1|\n",
      "|    Saltytreedog|      0.0|              47.0|          1|\n",
      "|     gaojunp107e|      0.0|              33.0|          1|\n",
      "+----------------+---------+------------------+-----------+\n",
      "only showing top 20 rows\n",
      "\n"
     ]
    }
   ],
   "source": [
    "\n",
    "player_stats = selected_data.groupBy(\"player_name\").agg(\n",
    "    avg(\"player_kills\").alias(\"avg_kills\"),\n",
    "    avg(\"team_placement\").alias(\"avg_placement\"),\n",
    "    count(\"player_name\").alias(\"match_count\")\n",
    ")\n",
    "\n",
    "player_stats.show()"
   ]
  },
  {
   "cell_type": "code",
   "execution_count": 8,
   "metadata": {},
   "outputs": [
    {
     "name": "stdout",
     "output_type": "stream",
     "text": [
      "+--------------+---------+-------------+-----------+\n",
      "|   player_name|avg_kills|avg_placement|match_count|\n",
      "+--------------+---------+-------------+-----------+\n",
      "|      gogolnyg|     62.0|          1.0|          1|\n",
      "|     651651646|     42.0|          1.0|          1|\n",
      "|  appar1008611|     38.0|          1.0|          1|\n",
      "|    EsNmToging|     36.0|          1.0|          1|\n",
      "|       Kinmmpp|     30.0|          1.0|          1|\n",
      "|      MoGu1314|     25.0|          1.0|          1|\n",
      "| asdkmiojfdioe|     25.0|          1.0|          1|\n",
      "|      motoMepp|     25.0|          1.0|          1|\n",
      "|      KouBxczG|     24.0|          1.0|          1|\n",
      "|   s1000r-race|     24.0|          4.0|          1|\n",
      "|   LiliTusfdfs|     23.0|          1.0|          1|\n",
      "|  babyylaowang|     23.0|          1.0|          1|\n",
      "|  georgeking12|     22.0|          1.0|          1|\n",
      "|     abbbbccc2|     22.0|          2.0|          1|\n",
      "|QUN-25-9999250|     22.0|          1.0|          1|\n",
      "| SR-HaoZheDaDa|     21.0|          1.0|          1|\n",
      "|       koopsUU|     21.0|          1.0|          1|\n",
      "|      valvreis|     20.0|          1.0|          1|\n",
      "|       LanKwai|     20.0|          1.0|          1|\n",
      "|      EVEN1982|     20.0|          1.0|          1|\n",
      "+--------------+---------+-------------+-----------+\n",
      "\n",
      "+--------------+---------+-------------+-----------+\n",
      "|   player_name|avg_kills|avg_placement|match_count|\n",
      "+--------------+---------+-------------+-----------+\n",
      "|     Mercredi_|     12.0|          1.0|          1|\n",
      "|       Mr--666|      4.0|          1.0|          1|\n",
      "|        ZXDONE|      4.0|          1.0|          1|\n",
      "|babybabybiubiu|      1.0|          1.0|          1|\n",
      "|       2MingGG|      1.0|          1.0|          1|\n",
      "|      YanRuyu-|      9.0|          1.0|          1|\n",
      "|       BSS1991|     12.0|          1.0|          1|\n",
      "|    ChinaGodYu|      6.0|          1.0|          1|\n",
      "|        zjjlc1|      0.0|          1.0|          1|\n",
      "|    Zexixixixi|      0.0|          1.0|          1|\n",
      "|      KGmethod|      7.0|          1.0|          1|\n",
      "|   Nicknamesod|      2.0|          1.0|          1|\n",
      "|         Mae-F|      3.0|          1.0|          1|\n",
      "|     Pineaqple|      6.0|          1.0|          1|\n",
      "|      jilibili|      1.0|          1.0|          1|\n",
      "|  yanyan330330|      0.0|          1.0|          1|\n",
      "|      13Legion|      3.0|          1.0|          1|\n",
      "|  Monster2017S|      0.0|          1.0|          1|\n",
      "|      Eason992|      7.0|          1.0|          1|\n",
      "|Manual_Restart|      3.0|          1.0|          1|\n",
      "+--------------+---------+-------------+-----------+\n",
      "\n"
     ]
    }
   ],
   "source": [
    "\n",
    "\n",
    "top_players_by_kills = player_stats.sort(\"avg_kills\", ascending=False).limit(20)\n",
    "top_players_by_placement = player_stats.sort(\"avg_placement\").limit(20)\n",
    "\n",
    "top_players_by_kills.show()\n",
    "top_players_by_placement.show()\n"
   ]
  },
  {
   "cell_type": "code",
   "execution_count": 9,
   "metadata": {},
   "outputs": [
    {
     "name": "stdout",
     "output_type": "stream",
     "text": [
      "+---------------+---------+-------------+-----------+\n",
      "|    player_name|avg_kills|avg_placement|match_count|\n",
      "+---------------+---------+-------------+-----------+\n",
      "|         LILI-F|      0.0|         44.5|          4|\n",
      "|   Informaldrip|     0.25|         23.5|          4|\n",
      "|           immj|      0.4|         28.2|          5|\n",
      "|        Dcc-ccD|     1.75|         14.5|          4|\n",
      "|   Koreyoshi364|     0.25|        44.25|          4|\n",
      "|    Roobydooble|      1.0|        27.75|          4|\n",
      "|       dman4771|     1.75|         11.5|          4|\n",
      "|      crazyone8|     0.25|        23.25|          4|\n",
      "|        GenOrgg|      0.5|        48.75|          4|\n",
      "|         KBSDUI|      0.0|         12.0|          4|\n",
      "|   siliymaui125|      2.0|        22.75|          4|\n",
      "|      TemcoEwok|     0.25|        13.25|          4|\n",
      "|     PapaNuntis|      1.0|        13.25|          4|\n",
      "|      NerdyMoJo|      1.5|        27.75|          4|\n",
      "|  JustTuatuatua|     0.75|        10.75|          4|\n",
      "| LawngD-a-w-n-g|      2.2|         27.2|          5|\n",
      "|       ChanronG|      0.5|          9.0|          4|\n",
      "|      killamrie|      0.0|        33.25|          4|\n",
      "|China_huangyong|      0.5|        21.75|          4|\n",
      "+---------------+---------+-------------+-----------+\n",
      "\n"
     ]
    }
   ],
   "source": [
    "\n",
    "filtered_stats = player_stats.filter(\"match_count >= 4\")\n",
    "filtered_stats.show()"
   ]
  },
  {
   "cell_type": "code",
   "execution_count": 10,
   "metadata": {},
   "outputs": [
    {
     "name": "stdout",
     "output_type": "stream",
     "text": [
      "+-------------------+---------+--------------------+----------+----------+--------------+-----------+----------------+------------------+----------+------------+-----------+-------------------+-------+--------------+\n",
      "|               date|game_size|            match_id|match_mode|party_size|player_assists|player_dbno|player_dist_ride|  player_dist_walk|player_dmg|player_kills|player_name|player_survive_time|team_id|team_placement|\n",
      "+-------------------+---------+--------------------+----------+----------+--------------+-----------+----------------+------------------+----------+------------+-----------+-------------------+-------+--------------+\n",
      "|2018-01-07 13:59:03|       27|2U4GBNA0Yml3HEnAb...|       tpp|         4|             0|         32|             0.0|3287.7263199999998|      3956|          42|  651651646|           1286.271|      1|             1|\n",
      "+-------------------+---------+--------------------+----------+----------+--------------+-----------+----------------+------------------+----------+------------+-----------+-------------------+-------+--------------+\n",
      "\n"
     ]
    }
   ],
   "source": [
    "\n",
    "filtered_stats = df.filter(\"player_name = '651651646'\")\n",
    "filtered_stats.show()"
   ]
  },
  {
   "cell_type": "code",
   "execution_count": 11,
   "metadata": {},
   "outputs": [
    {
     "name": "stdout",
     "output_type": "stream",
     "text": [
      "number of top 1 in the dataset\n",
      "2679\n",
      "Average kills for top 1\n",
      "+-----------------+\n",
      "|   avg(avg_kills)|\n",
      "+-----------------+\n",
      "|3.710526315789474|\n",
      "+-----------------+\n",
      "\n"
     ]
    }
   ],
   "source": [
    "print(\"number of top 1 in the dataset\")\n",
    "top_1 = player_stats.filter(player_stats.avg_placement == 1).count()\n",
    "print(top_1)\n",
    "\n",
    "print(\"Average kills for top 1\")\n",
    "avg_kills_top_1 = player_stats.filter(player_stats.avg_placement == 1).agg(avg(\"avg_kills\"))\n",
    "avg_kills_top_1.show()"
   ]
  },
  {
   "cell_type": "markdown",
   "metadata": {},
   "source": [
    "The average winner has 4.1 kills which is quite low compared to the top killers of the matchs.\n",
    "This means that doing kills does not necessarily mean winning the game."
   ]
  },
  {
   "cell_type": "markdown",
   "metadata": {},
   "source": [
    "Une observation intéressante est que les joueurs avec un grand nombre d'éliminations ont également tendance à bien se placer dans les matchs.\n",
    "\n",
    "Meme si la plus part des gens dans le haut du classement ont un nombre d'elimination assez faible."
   ]
  },
  {
   "cell_type": "markdown",
   "metadata": {},
   "source": [
    "# 4 Score des joueurs\n",
    "\n",
    "Nous allons assigner un score à chaque joueur selon ses actions lors de chaque partie. Chaque joueur\n",
    "gagnerait 50 points par assistance, 1 point par dommage causé, 100 points par élimination et 1000 points\n",
    "s'il finis à la première place, 990 à la deuxième, ainsi de suite.\n",
    "\n",
    "1. Développez une fonction spécifique pour obtenir le score, et obtenez les 10 meilleurs joueurs selon ce critère.\n",
    "2. Comparez ce classement avec les deux précédents critères"
   ]
  },
  {
   "cell_type": "code",
   "execution_count": 12,
   "metadata": {},
   "outputs": [],
   "source": [
    "df = df.withColumn('score', \n",
    "                   50 * df['player_assists'] + \n",
    "                   df['player_dmg'] + \n",
    "                   100 * df['player_kills'] + \n",
    "                   (1000 - F.when(df['team_placement'] > 10, 0).otherwise(10 * (df['team_placement'] - 1))))"
   ]
  },
  {
   "cell_type": "code",
   "execution_count": 13,
   "metadata": {},
   "outputs": [
    {
     "name": "stdout",
     "output_type": "stream",
     "text": [
      "+----------------+----------+\n",
      "|     player_name|sum(score)|\n",
      "+----------------+----------+\n",
      "|            NULL|    169908|\n",
      "|        gogolnyg|     13282|\n",
      "|       651651646|      9156|\n",
      "|    appar1008611|      8819|\n",
      "|      EsNmToging|      8016|\n",
      "|  LawngD-a-w-n-g|      7323|\n",
      "|Hidden-In-Bushes|      6751|\n",
      "|         Kinmmpp|      6629|\n",
      "|        motoMepp|      6405|\n",
      "|     LiliTusfdfs|      6332|\n",
      "|   asdkmiojfdioe|      6028|\n",
      "|    babyylaowang|      6009|\n",
      "|        MoGu1314|      5941|\n",
      "|    ILovefantasy|      5890|\n",
      "|    georgeking12|      5846|\n",
      "|        ViaMapie|      5756|\n",
      "|        KouBxczG|      5743|\n",
      "|         Dcc-ccD|      5709|\n",
      "|            immj|      5579|\n",
      "|    siliymaui125|      5511|\n",
      "+----------------+----------+\n",
      "\n"
     ]
    }
   ],
   "source": [
    "top_players = df.groupBy('player_name')\\\n",
    "                .sum('score')\\\n",
    "                .orderBy('sum(score)', ascending=False)\\\n",
    "                .limit(20)\n",
    "# Remove null values\n",
    "top_players = top_players.filter(top_players.player_name != 'NULL')\n",
    "top_players.show()"
   ]
  }
 ],
 "metadata": {
  "kernelspec": {
   "display_name": "Python 3",
   "language": "python",
   "name": "python3"
  },
  "language_info": {
   "codemirror_mode": {
    "name": "ipython",
    "version": 3
   },
   "file_extension": ".py",
   "mimetype": "text/x-python",
   "name": "python",
   "nbconvert_exporter": "python",
   "pygments_lexer": "ipython3",
   "version": "3.11.4"
  }
 },
 "nbformat": 4,
 "nbformat_minor": 2
}
